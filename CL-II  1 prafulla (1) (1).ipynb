{
 "cells": [
  {
   "cell_type": "markdown",
   "id": "bc54b106",
   "metadata": {},
   "source": [
    "###  1. Write a program for pre-processing of a text document such as stop word removal, stemming. "
   ]
  },
  {
   "cell_type": "code",
   "execution_count": null,
   "id": "24c64446",
   "metadata": {},
   "outputs": [],
   "source": [
    "#Name : Prafulla Nalawade C.\n",
    "#Roll No. : 42  \n",
    "#B.E A.I.& D.S.\n",
    "#Computer Laboratory II - (Information Retrival)"
   ]
  },
  {
   "cell_type": "code",
   "execution_count": null,
   "id": "d22d88e4",
   "metadata": {},
   "outputs": [],
   "source": [
    "#stop words removal"
   ]
  },
  {
   "cell_type": "code",
   "execution_count": 1,
   "id": "236f5a97",
   "metadata": {},
   "outputs": [
    {
     "name": "stderr",
     "output_type": "stream",
     "text": [
      "[nltk_data] Downloading package punkt to\n",
      "[nltk_data]     C:\\Users\\PRAFULL\\AppData\\Roaming\\nltk_data...\n",
      "[nltk_data]   Package punkt is already up-to-date!\n"
     ]
    },
    {
     "data": {
      "text/plain": [
       "True"
      ]
     },
     "execution_count": 1,
     "metadata": {},
     "output_type": "execute_result"
    }
   ],
   "source": [
    "import nltk\n",
    "nltk.download('punkt')"
   ]
  },
  {
   "cell_type": "code",
   "execution_count": 2,
   "id": "791df934",
   "metadata": {},
   "outputs": [],
   "source": [
    "from nltk.corpus import stopwords"
   ]
  },
  {
   "cell_type": "code",
   "execution_count": 3,
   "id": "78059960",
   "metadata": {},
   "outputs": [
    {
     "name": "stdout",
     "output_type": "stream",
     "text": [
      "['i', 'me', 'my', 'myself', 'we', 'our', 'ours', 'ourselves', 'you', \"you're\", \"you've\", \"you'll\", \"you'd\", 'your', 'yours', 'yourself', 'yourselves', 'he', 'him', 'his', 'himself', 'she', \"she's\", 'her', 'hers', 'herself', 'it', \"it's\", 'its', 'itself', 'they', 'them', 'their', 'theirs', 'themselves', 'what', 'which', 'who', 'whom', 'this', 'that', \"that'll\", 'these', 'those', 'am', 'is', 'are', 'was', 'were', 'be', 'been', 'being', 'have', 'has', 'had', 'having', 'do', 'does', 'did', 'doing', 'a', 'an', 'the', 'and', 'but', 'if', 'or', 'because', 'as', 'until', 'while', 'of', 'at', 'by', 'for', 'with', 'about', 'against', 'between', 'into', 'through', 'during', 'before', 'after', 'above', 'below', 'to', 'from', 'up', 'down', 'in', 'out', 'on', 'off', 'over', 'under', 'again', 'further', 'then', 'once', 'here', 'there', 'when', 'where', 'why', 'how', 'all', 'any', 'both', 'each', 'few', 'more', 'most', 'other', 'some', 'such', 'no', 'nor', 'not', 'only', 'own', 'same', 'so', 'than', 'too', 'very', 's', 't', 'can', 'will', 'just', 'don', \"don't\", 'should', \"should've\", 'now', 'd', 'll', 'm', 'o', 're', 've', 'y', 'ain', 'aren', \"aren't\", 'couldn', \"couldn't\", 'didn', \"didn't\", 'doesn', \"doesn't\", 'hadn', \"hadn't\", 'hasn', \"hasn't\", 'haven', \"haven't\", 'isn', \"isn't\", 'ma', 'mightn', \"mightn't\", 'mustn', \"mustn't\", 'needn', \"needn't\", 'shan', \"shan't\", 'shouldn', \"shouldn't\", 'wasn', \"wasn't\", 'weren', \"weren't\", 'won', \"won't\", 'wouldn', \"wouldn't\"]\n"
     ]
    },
    {
     "name": "stderr",
     "output_type": "stream",
     "text": [
      "[nltk_data] Downloading package stopwords to\n",
      "[nltk_data]     C:\\Users\\PRAFULL\\AppData\\Roaming\\nltk_data...\n",
      "[nltk_data]   Package stopwords is already up-to-date!\n"
     ]
    }
   ],
   "source": [
    "nltk.download('stopwords')\n",
    "print(stopwords.words('english'))"
   ]
  },
  {
   "cell_type": "code",
   "execution_count": 4,
   "id": "f425b6f7",
   "metadata": {},
   "outputs": [],
   "source": [
    "from nltk.corpus import stopwords\n",
    "from nltk.tokenize import word_tokenize"
   ]
  },
  {
   "cell_type": "code",
   "execution_count": 5,
   "id": "aba9da91",
   "metadata": {},
   "outputs": [],
   "source": [
    "example_sent = \"my name is prafull just don't forget it\""
   ]
  },
  {
   "cell_type": "code",
   "execution_count": 6,
   "id": "79bd322d",
   "metadata": {},
   "outputs": [],
   "source": [
    "stop_words = set(stopwords.words('english'))"
   ]
  },
  {
   "cell_type": "code",
   "execution_count": 7,
   "id": "7763ebaa",
   "metadata": {},
   "outputs": [],
   "source": [
    "word_tokens = word_tokenize(example_sent)"
   ]
  },
  {
   "cell_type": "code",
   "execution_count": 8,
   "id": "05c980ed",
   "metadata": {},
   "outputs": [],
   "source": [
    "filtered_sentence = [w for w in word_tokens if not w.lower() in stop_words]"
   ]
  },
  {
   "cell_type": "code",
   "execution_count": 9,
   "id": "ea7d2f25",
   "metadata": {},
   "outputs": [],
   "source": [
    "filtered_sentence= []\n"
   ]
  },
  {
   "cell_type": "code",
   "execution_count": 38,
   "id": "e599b9e7",
   "metadata": {},
   "outputs": [
    {
     "name": "stdout",
     "output_type": "stream",
     "text": [
      "Programmer\n"
     ]
    }
   ],
   "source": [
    "print(w)"
   ]
  },
  {
   "cell_type": "code",
   "execution_count": 10,
   "id": "6cf4f423",
   "metadata": {},
   "outputs": [],
   "source": [
    "for w in word_tokens:\n",
    "    if w not in stop_words:\n",
    "        filtered_sentence.append(w)\n",
    "        "
   ]
  },
  {
   "cell_type": "code",
   "execution_count": 11,
   "id": "b17520b6",
   "metadata": {},
   "outputs": [
    {
     "name": "stdout",
     "output_type": "stream",
     "text": [
      "['my', 'name', 'is', 'prafull', 'just', 'do', \"n't\", 'forget', 'it']\n"
     ]
    }
   ],
   "source": [
    "print(word_tokens)"
   ]
  },
  {
   "cell_type": "code",
   "execution_count": 12,
   "id": "3a97d882",
   "metadata": {},
   "outputs": [
    {
     "name": "stdout",
     "output_type": "stream",
     "text": [
      "['name', 'prafull', \"n't\", 'forget']\n"
     ]
    }
   ],
   "source": [
    "print(filtered_sentence)"
   ]
  },
  {
   "cell_type": "code",
   "execution_count": 13,
   "id": "b3fb7247",
   "metadata": {},
   "outputs": [],
   "source": [
    "# performing stopwords operation in file"
   ]
  },
  {
   "cell_type": "code",
   "execution_count": 14,
   "id": "511f029b",
   "metadata": {},
   "outputs": [
    {
     "data": {
      "text/plain": [
       "'C:\\\\Users\\\\PRAFULL'"
      ]
     },
     "execution_count": 14,
     "metadata": {},
     "output_type": "execute_result"
    }
   ],
   "source": [
    "import io\n",
    "from nltk.corpus import stopwords\n",
    "from nltk.tokenize import word_tokenize\n",
    "import os\n",
    "os.getcwd()"
   ]
  },
  {
   "cell_type": "code",
   "execution_count": 31,
   "id": "ae1d4940",
   "metadata": {},
   "outputs": [],
   "source": [
    "\n",
    "stop_words = set(stopwords.words('english'))"
   ]
  },
  {
   "cell_type": "code",
   "execution_count": 32,
   "id": "47773b54",
   "metadata": {},
   "outputs": [],
   "source": [
    "file1=open(\"text.txt\",'r')\n"
   ]
  },
  {
   "cell_type": "code",
   "execution_count": 33,
   "id": "7026e4d5",
   "metadata": {},
   "outputs": [],
   "source": [
    "line = file1.read()\n",
    "words = line.split()\n"
   ]
  },
  {
   "cell_type": "code",
   "execution_count": 34,
   "id": "795da475",
   "metadata": {},
   "outputs": [],
   "source": [
    "file1 = open(\"text.txt\", 'w')"
   ]
  },
  {
   "cell_type": "code",
   "execution_count": 36,
   "id": "9dcc758a",
   "metadata": {},
   "outputs": [
    {
     "name": "stdout",
     "output_type": "stream",
     "text": [
      "['Programmer', 'program', 'programming', 'languages']\n"
     ]
    }
   ],
   "source": [
    "print(words)"
   ]
  },
  {
   "cell_type": "code",
   "execution_count": 37,
   "id": "c41650a1",
   "metadata": {},
   "outputs": [],
   "source": [
    "for r in words:\n",
    "    if not r in stop_words:\n",
    "        appendFile=open('text.txt','a')\n",
    "        appendFile.write(\" \"+r)\n",
    "        appendFile.close()"
   ]
  },
  {
   "cell_type": "code",
   "execution_count": 23,
   "id": "8baa8e53",
   "metadata": {},
   "outputs": [],
   "source": [
    "# stemming"
   ]
  },
  {
   "cell_type": "code",
   "execution_count": 24,
   "id": "48776a63",
   "metadata": {},
   "outputs": [],
   "source": [
    "from nltk.stem import PorterStemmer\n",
    "from nltk.tokenize import word_tokenize\n",
    "ps = PorterStemmer()"
   ]
  },
  {
   "cell_type": "code",
   "execution_count": 25,
   "id": "3568026f",
   "metadata": {},
   "outputs": [],
   "source": [
    "words = [\"program\", \"programs\", \"programmer\" ,\"progamming\" ,\"programmers\"]\n"
   ]
  },
  {
   "cell_type": "code",
   "execution_count": 26,
   "id": "c027bbfb",
   "metadata": {},
   "outputs": [
    {
     "name": "stdout",
     "output_type": "stream",
     "text": [
      "program : program\n",
      "programs : program\n",
      "programmer : programm\n",
      "progamming : progam\n",
      "programmers : programm\n"
     ]
    }
   ],
   "source": [
    "for w in words:\n",
    "    print(w,\":\", ps.stem(w))"
   ]
  },
  {
   "cell_type": "code",
   "execution_count": 27,
   "id": "12382a56",
   "metadata": {},
   "outputs": [],
   "source": [
    "#code 2 (stemming words from sentences)"
   ]
  },
  {
   "cell_type": "code",
   "execution_count": 41,
   "id": "106987be",
   "metadata": {},
   "outputs": [
    {
     "name": "stdout",
     "output_type": "stream",
     "text": [
      "Programmer : programm\n",
      "program : program\n",
      "with : with\n",
      "programming : program\n",
      "languages : languag\n"
     ]
    }
   ],
   "source": [
    "from nltk.stem import PorterStemmer\n",
    "from nltk.tokenize import word_tokenize\n",
    "ps = PorterStemmer()\n",
    "sentence = \"Programmer program with programming languages\"\n",
    "words = word_tokenize(sentence)\n",
    "for w in words :\n",
    "    print(w,\":\" , ps.stem(w))"
   ]
  }
 ],
 "metadata": {
  "kernelspec": {
   "display_name": "Python 3 (ipykernel)",
   "language": "python",
   "name": "python3"
  },
  "language_info": {
   "codemirror_mode": {
    "name": "ipython",
    "version": 3
   },
   "file_extension": ".py",
   "mimetype": "text/x-python",
   "name": "python",
   "nbconvert_exporter": "python",
   "pygments_lexer": "ipython3",
   "version": "3.11.5"
  }
 },
 "nbformat": 4,
 "nbformat_minor": 5
}
