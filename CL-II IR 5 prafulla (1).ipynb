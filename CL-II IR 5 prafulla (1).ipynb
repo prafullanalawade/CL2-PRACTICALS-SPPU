{
 "cells": [
  {
   "cell_type": "code",
   "execution_count": 39,
   "id": "decad2ee",
   "metadata": {
    "scrolled": true
   },
   "outputs": [],
   "source": [
    "# computer lab-II(IR)\n",
    "# Practical No.5\n",
    "# Implement PAge Rank Algorithm\n",
    "# Name: Nalawade Prafulla Chandrashekhar.\n",
    "# Roll No. 42\n",
    "# BE AI&DS"
   ]
  },
  {
   "cell_type": "code",
   "execution_count": 57,
   "id": "49e9acc9",
   "metadata": {},
   "outputs": [
    {
     "name": "stdout",
     "output_type": "stream",
     "text": [
      "https://example.com: 0.0750\n",
      "https://www.iana.org/domains/example: 0.1388\n"
     ]
    }
   ],
   "source": [
    "import requests\n",
    "from bs4 import BeautifulSoup\n",
    "from urllib.parse import urljoin\n",
    "import numpy as np\n",
    "\n",
    "# Function to get all the links from a webpage\n",
    "def get_links(url):\n",
    "    try:\n",
    "        response = requests.get(url)\n",
    "        soup = BeautifulSoup(response.content, 'html.parser')\n",
    "        links = set()\n",
    "\n",
    "        for link in soup.find_all('a', href=True):\n",
    "            absolute_url = urljoin(url, link['href'])\n",
    "            if absolute_url.startswith('http'):\n",
    "                links.add(absolute_url)\n",
    "        return links\n",
    "    except Exception as e:\n",
    "        print(f\"Error fetching {url}: {e}\")\n",
    "        return set()\n",
    "\n",
    "# Function to build the link graph\n",
    "def build_graph(start_url, depth=2):\n",
    "    pages = {start_url}  # Initialize the set of pages with the start URL\n",
    "    graph = {}\n",
    "    \n",
    "    # Crawl pages up to the given depth\n",
    "    for _ in range(depth):\n",
    "        new_pages = set()\n",
    "        for page in pages:\n",
    "            if page not in graph:  # Only process pages that haven't been processed\n",
    "                links = get_links(page)  # Get links from the current page\n",
    "                graph[page] = links      # Store the links in the graph\n",
    "                new_pages.update(links)  # Add newly discovered links to new_pages set\n",
    "        pages.update(new_pages)  # Update pages to include newly found pages\n",
    "    \n",
    "    return graph\n",
    "\n",
    "# Example: Starting from a single URL\n",
    "start_url = \"https://example.com\"\n",
    "depth = 2  # Define the depth here\n",
    "\n",
    "link_graph = build_graph(start_url, depth)\n",
    "\n",
    "# PageRank implementation\n",
    "def page_rank(graph, iterations=100, d=0.85):\n",
    "    pages = list(graph.keys())\n",
    "    n = len(pages)\n",
    "    \n",
    "    # Initialize PageRank values\n",
    "    ranks = np.ones(n) / n\n",
    "    \n",
    "    # Create adjacency matrix\n",
    "    adjacency_matrix = np.zeros((n, n))\n",
    "    \n",
    "    for i, page in enumerate(pages):\n",
    "        for link in graph[page]:\n",
    "            if link in pages:\n",
    "                j = pages.index(link)\n",
    "                adjacency_matrix[j, i] = 1.0 / len(graph[page])\n",
    "    \n",
    "    # PageRank iterative process\n",
    "    for _ in range(iterations):\n",
    "        ranks = (1 - d) / n + d * adjacency_matrix.dot(ranks)\n",
    "    \n",
    "    # Mapping pages back to their PageRank values\n",
    "    page_rank_dict = {pages[i]: ranks[i] for i in range(n)}\n",
    "    return page_rank_dict\n",
    "\n",
    "# Compute PageRank\n",
    "ranks = page_rank(link_graph)\n",
    "for page, rank in ranks.items():\n",
    "    print(f\"{page}: {rank:.4f}\")\n"
   ]
  }
 ],
 "metadata": {
  "kernelspec": {
   "display_name": "Python 3 (ipykernel)",
   "language": "python",
   "name": "python3"
  },
  "language_info": {
   "codemirror_mode": {
    "name": "ipython",
    "version": 3
   },
   "file_extension": ".py",
   "mimetype": "text/x-python",
   "name": "python",
   "nbconvert_exporter": "python",
   "pygments_lexer": "ipython3",
   "version": "3.11.5"
  }
 },
 "nbformat": 4,
 "nbformat_minor": 5
}
