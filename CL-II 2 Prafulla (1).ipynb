{
 "cells": [
  {
   "cell_type": "markdown",
   "id": "4866d102",
   "metadata": {},
   "source": [
    "## 2. Implement a program for retrieval of documents using inverted files. "
   ]
  },
  {
   "cell_type": "code",
   "execution_count": 1,
   "id": "a7c33314",
   "metadata": {},
   "outputs": [],
   "source": [
    "#Name : Prafulla Nalawade C.\n",
    "#Roll No. : 42  \n",
    "#B.E A.I.& D.S.\n",
    "#Computer Laboratory II - (Information Retrival)"
   ]
  },
  {
   "cell_type": "code",
   "execution_count": 1,
   "id": "1024c50a",
   "metadata": {},
   "outputs": [
    {
     "name": "stdout",
     "output_type": "stream",
     "text": [
      "the: [1, 2]\n",
      "quick: [1, 3]\n",
      "brown: [1, 3]\n",
      "fox: [1]\n",
      "jumps: [1]\n",
      "over: [1, 2]\n",
      "lazy: [1, 2]\n",
      "dog: [1, 2]\n",
      "never: [2]\n",
      "jump: [2, 3]\n",
      "quickly: [2]\n",
      "foxes: [3]\n",
      "are: [3]\n",
      "and: [3]\n",
      "high: [3]\n",
      "Documents containing 'quick fox': [1]\n"
     ]
    }
   ],
   "source": [
    "class InvertedIndex:\n",
    "    def __init__(self):\n",
    "        # Initialize an empty dictionary to store the inverted index\n",
    "        self.index = {}\n",
    "    \n",
    "    def add_document(self, doc_id, document):\n",
    "        # Tokenize the document into words\n",
    "        words = document.split()\n",
    "        for word in words:\n",
    "            word = word.lower()  # Convert to lowercase for case-insensitive search\n",
    "            if word not in self.index:\n",
    "                self.index[word] = []\n",
    "            if doc_id not in self.index[word]:\n",
    "                self.index[word].append(doc_id)\n",
    "    \n",
    "    def query(self, words):\n",
    "        # Tokenize the query into words\n",
    "        words = words.split()\n",
    "        results = set()\n",
    "        for word in words:\n",
    "            word = word.lower()  # Convert to lowercase for case-insensitive search\n",
    "            if word in self.index:\n",
    "                if not results:\n",
    "                    results = set(self.index[word])\n",
    "                else:\n",
    "                    results &= set(self.index[word])\n",
    "        return list(results)\n",
    "\n",
    "    def display_index(self):\n",
    "        # Display the contents of the inverted index\n",
    "        for word, doc_ids in self.index.items():\n",
    "            print(f\"{word}: {doc_ids}\")\n",
    "\n",
    "\n",
    "# Example usage\n",
    "documents = {\n",
    "    1: \"The quick brown fox jumps over the lazy dog\",\n",
    "    2: \"Never jump over the lazy dog quickly\",\n",
    "    3: \"Brown foxes are quick and jump high\"\n",
    "}\n",
    "\n",
    "# Create an instance of the InvertedIndex\n",
    "inverted_index = InvertedIndex()\n",
    "\n",
    "# Add documents to the index\n",
    "for doc_id, content in documents.items():\n",
    "    inverted_index.add_document(doc_id, content)\n",
    "\n",
    "# Display the inverted index\n",
    "inverted_index.display_index()\n",
    "\n",
    "# Query the index\n",
    "query = \"quick fox\"\n",
    "results = inverted_index.query(query)\n",
    "print(f\"Documents containing '{query}': {results}\")\n"
   ]
  }
 ],
 "metadata": {
  "kernelspec": {
   "display_name": "Python 3 (ipykernel)",
   "language": "python",
   "name": "python3"
  },
  "language_info": {
   "codemirror_mode": {
    "name": "ipython",
    "version": 3
   },
   "file_extension": ".py",
   "mimetype": "text/x-python",
   "name": "python",
   "nbconvert_exporter": "python",
   "pygments_lexer": "ipython3",
   "version": "3.11.5"
  }
 },
 "nbformat": 4,
 "nbformat_minor": 5
}
